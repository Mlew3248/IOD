{
 "cells": [
  {
   "cell_type": "markdown",
   "metadata": {
    "id": "7KeNKtNL2Ix-"
   },
   "source": [
    "<div>\n",
    "<img src=https://www.institutedata.com/wp-content/uploads/2019/10/iod_h_tp_primary_c.svg width=\"300\">\n",
    "</div>\n",
    "\n",
    "# Python - Lab 1\n",
    "\n",
    "## Learning objectives\n",
    "\n",
    "This lab demonstrates examples of:\n",
    "\n",
    "1. Creating and manipulating lists\n",
    "2. For loops\n",
    "3. Importing modules and functions\n",
    "4. Creating dictonaries\n",
    "\n",
    "## Instructions:\n",
    "\n",
    "1. Replace ??? with the appropriate code\n",
    "2. Press Shift + Enter to execute cell\n",
    "\n"
   ]
  },
  {
   "cell_type": "code",
   "execution_count": 1,
   "metadata": {
    "id": "NaRcNY1l2LbD"
   },
   "outputs": [],
   "source": [
    "# create a list of 10 students (use just first name)\n",
    "students = ['alice','ben','cathy','dawn','emily','fern','emma','sean','felix','hugh']"
   ]
  },
  {
   "cell_type": "code",
   "execution_count": 2,
   "metadata": {
    "id": "lyMlOgoUZ2R4"
   },
   "outputs": [
    {
     "name": "stdout",
     "output_type": "stream",
     "text": [
      "['alice', 'ben', 'cathy', 'dawn', 'emily', 'fern', 'emma', 'sean', 'felix', 'hugh']\n"
     ]
    }
   ],
   "source": [
    "# Print the list\n",
    "print (students)"
   ]
  },
  {
   "cell_type": "code",
   "execution_count": 3,
   "metadata": {
    "id": "LtbLA_T811kr"
   },
   "outputs": [
    {
     "name": "stdout",
     "output_type": "stream",
     "text": [
      "Index 01 , alice\n",
      "Index 02 , ben\n",
      "Index 03 , cathy\n",
      "Index 04 , dawn\n",
      "Index 05 , emily\n",
      "Index 06 , fern\n",
      "Index 07 , emma\n",
      "Index 08 , sean\n",
      "Index 09 , felix\n",
      "Index 10 , hugh\n"
     ]
    }
   ],
   "source": [
    "# print the list of students\n",
    "# in the following format\n",
    "# Index 01 \t Alice\n",
    "# Index 02 \t Bob\n",
    "# Index 03 \t Pradeep\n",
    "\n",
    "for i,student in enumerate(students):\n",
    "    print(f'Index {i+1:02d} , {student}')   "
   ]
  },
  {
   "cell_type": "code",
   "execution_count": 4,
   "metadata": {
    "id": "OF5sj3CX1lHl"
   },
   "outputs": [
    {
     "name": "stdout",
     "output_type": "stream",
     "text": [
      "Index 01 , hugh\n",
      "Index 02 , felix\n",
      "Index 03 , sean\n",
      "Index 04 , emma\n",
      "Index 05 , fern\n",
      "Index 06 , emily\n",
      "Index 07 , dawn\n",
      "Index 08 , cathy\n",
      "Index 09 , ben\n",
      "Index 10 , alice\n"
     ]
    }
   ],
   "source": [
    "#prints the list of students in reverse order one student in a line with its index\n",
    "\n",
    "\n",
    "for i,student in enumerate(reversed(students)):\n",
    "    print(f'Index {i+1:02d} , {student}')\n",
    "    "
   ]
  },
  {
   "cell_type": "code",
   "execution_count": 5,
   "metadata": {
    "id": "eAdtim4G1pyV"
   },
   "outputs": [
    {
     "name": "stdout",
     "output_type": "stream",
     "text": [
      "['hugh', 'ben', 'emily', 'fern', 'dawn', 'felix', 'sean', 'emma', 'cathy', 'alice']\n"
     ]
    }
   ],
   "source": [
    "#prints the student list in random order\n",
    "\n",
    "import random\n",
    "rstudents = random.sample(students,len(students))\n",
    "print(rstudents)\n"
   ]
  },
  {
   "cell_type": "code",
   "execution_count": 8,
   "metadata": {
    "colab": {
     "base_uri": "https://localhost:8080/"
    },
    "executionInfo": {
     "elapsed": 9,
     "status": "ok",
     "timestamp": 1664182403763,
     "user": {
      "displayName": "Chaitanya Rao",
      "userId": "16367114639785284684"
     },
     "user_tz": -600
    },
    "id": "sfKkL5dt1tqG",
    "outputId": "abd15dd6-23b8-4d0a-c665-8bd92731b5b9"
   },
   "outputs": [
    {
     "name": "stdout",
     "output_type": "stream",
     "text": [
      "fern      :90\n",
      "alice     :87\n",
      "cathy     :76\n",
      "hugh      :75\n",
      "sean      :73\n",
      "felix     :69\n",
      "emily     :66\n",
      "dawn      :64\n",
      "emma      :55\n",
      "ben       :45\n"
     ]
    }
   ],
   "source": [
    "#lists students in decreasing order of their exam marks given their marks below\n",
    "scores = [87,45,76,64,66,90,55,73,69,75]\n",
    "studentsAndScores = dict(zip(students,scores))\n",
    "\n",
    "for student in sorted(studentsAndScores, key=studentsAndScores.get,reverse=True):\n",
    "  print(f\"{student:10s}:{studentsAndScores[student]}\")\n"
   ]
  },
  {
   "cell_type": "code",
   "execution_count": 7,
   "metadata": {
    "colab": {
     "base_uri": "https://localhost:8080/"
    },
    "executionInfo": {
     "elapsed": 312,
     "status": "ok",
     "timestamp": 1652253824269,
     "user": {
      "displayName": "Muru Raj",
      "userId": "16263509272652930332"
     },
     "user_tz": -480
    },
    "id": "IPQQHA2h_MrC",
    "outputId": "841ddb8a-11d2-4bf1-a94d-67e84c520f19"
   },
   "outputs": [
    {
     "name": "stdout",
     "output_type": "stream",
     "text": [
      "fern      :90\n",
      "alice     :87\n",
      "cathy     :76\n",
      "hugh      :75\n",
      "sean      :73\n",
      "felix     :69\n",
      "emily     :66\n",
      "dawn      :64\n"
     ]
    }
   ],
   "source": [
    "#Prints 10 students w/ scores above 60 in descending order after making an empty dictionary to store students above 60\n",
    "\n",
    "studentsabove60 = dict()\n",
    "\n",
    "for student in studentsAndScores.keys():\n",
    "    if studentsAndScores[student] > 60:\n",
    "        studentsabove60[student] = studentsAndScores[student]\n",
    "for student in sorted(studentsabove60, key=studentsabove60.get, reverse = True):\n",
    "\n",
    "    print(f'{student:10s}:{studentsAndScores[student]}')\n"
   ]
  },
  {
   "cell_type": "markdown",
   "metadata": {
    "id": "1sXaEeYiyju-"
   },
   "source": [
    "\n",
    "\n",
    "---\n",
    "\n",
    "\n",
    "\n",
    "---\n",
    "\n",
    "\n",
    "\n",
    "> > > > > > > > > © 2023 Institute of Data\n",
    "\n",
    "\n",
    "---\n",
    "\n",
    "\n",
    "\n",
    "---\n",
    "\n",
    "\n",
    "\n"
   ]
  }
 ],
 "metadata": {
  "colab": {
   "provenance": []
  },
  "kernelspec": {
   "display_name": "Python 3 (ipykernel)",
   "language": "python",
   "name": "python3"
  },
  "language_info": {
   "codemirror_mode": {
    "name": "ipython",
    "version": 3
   },
   "file_extension": ".py",
   "mimetype": "text/x-python",
   "name": "python",
   "nbconvert_exporter": "python",
   "pygments_lexer": "ipython3",
   "version": "3.11.4"
  }
 },
 "nbformat": 4,
 "nbformat_minor": 1
}
